{
 "cells": [
  {
   "cell_type": "markdown",
   "id": "f28756fc",
   "metadata": {},
   "source": [
    "# How to install tensorflow/keras using a GPU on windows 10."
   ]
  },
  {
   "cell_type": "markdown",
   "id": "b6ebb887",
   "metadata": {},
   "source": [
    "This guide is greatly inspired by Jeff Heaton.  \n",
    "https://github.com/jeffheaton/t81_558_deep_learning/blob/master/install/tensorflow-install-jul-2020.ipynb  \n",
    "\n",
    "However, it misses two very important details which I provide in this guide (python version and tensorflow package version).  \n",
    "Hopefully you won't miss an afternoon just like I did."
   ]
  },
  {
   "cell_type": "markdown",
   "id": "6f949a63",
   "metadata": {},
   "source": [
    "First install miniconda.  \n",
    "https://docs.conda.io/en/latest/miniconda.html  \n",
    "\n",
    "Then launch Anaconda prompt and install jupyter.  \n",
    "conda install -y jupyter  \n",
    "\n",
    "Create an environment (here called tensorflow).\n",
    "The reason for python 3.7 is that python 3.6 was too slow during check-up processes (it even maybe crashed) and python 3.8 didn't detected my GPU.   \n",
    "conda create --name tensorflow python=3.7  \n",
    "\n",
    "Enter this environment.  \n",
    "conda activate tensorflow  \n",
    "\n",
    "Install dependencies for this environment.  \n",
    "conda install -c conda-forge nb_conda  \n",
    "\n",
    "Install tensorflow with GPU support, this should work directly (maybe you should install CUDA toolkit).  \n",
    "conda install -c anaconda tensorflow-gpu  \n",
    "\n",
    "Register this environment.  \n",
    "python -m ipykernel install --user --name tensorflow --display-name \"Python 3.7 (tensorflow)\"  \n",
    "\n",
    "If you need help to install, you're most likely new to this field and I recommend you using those two packages (numpy is already shipped in the tensorflow package).  \n",
    "conda install -c anaconda pandas  \n",
    "conda install -c anaconda scikit-learn  \n",
    "\n",
    "Install keras, anaconda proposes a keras-gpu package but it didn't work (for me).  \n",
    "conda install -c keras  "
   ]
  },
  {
   "cell_type": "markdown",
   "id": "6d0eb484",
   "metadata": {},
   "source": [
    "The next command will load tensorflow, keras, pandas and give their version number.\n",
    "Additionally, it will tell you if your GPU is detected.  \n",
    "(Run this in python ! Ideally download this very file and load it in jupyter (launch another anaconda prompt, enter the environment and type \"jupyter notebook\"), or type directly \"python\" in an other anaconda prompt)"
   ]
  },
  {
   "cell_type": "code",
   "execution_count": 2,
   "id": "d7dcfd14",
   "metadata": {},
   "outputs": [
    {
     "name": "stdout",
     "output_type": "stream",
     "text": [
      "Tensor Flow Version: 2.1.0\n",
      "Keras Version: 2.2.4-tf\n",
      "\n",
      "Python 3.7.11 (default, Jul 27 2021, 09:42:29) [MSC v.1916 64 bit (AMD64)]\n",
      "Pandas 1.1.3\n",
      "Scikit-Learn 0.23.2\n",
      "GPU is available\n"
     ]
    }
   ],
   "source": [
    "import sys\n",
    "\n",
    "import tensorflow.keras\n",
    "import pandas as pd\n",
    "import sklearn as sk\n",
    "import tensorflow as tf\n",
    "\n",
    "print(f\"Tensor Flow Version: {tf.__version__}\")\n",
    "print(f\"Keras Version: {tensorflow.keras.__version__}\")\n",
    "print()\n",
    "print(f\"Python {sys.version}\")\n",
    "print(f\"Pandas {pd.__version__}\")\n",
    "print(f\"Scikit-Learn {sk.__version__}\")\n",
    "gpu = len(tf.config.list_physical_devices('GPU'))>0\n",
    "print(\"GPU is\", \"available\" if gpu else \"NOT AVAILABLE\")"
   ]
  },
  {
   "cell_type": "markdown",
   "id": "d0a9a57c",
   "metadata": {},
   "source": [
    "If you have \"GPU is NOT AVAILABLE\", this might be due to the incorrect preparation of the tensorflow-gpu package, tensorflow and tensorflow-estimator are not of the same version."
   ]
  },
  {
   "cell_type": "code",
   "execution_count": 3,
   "id": "bd7852bb",
   "metadata": {},
   "outputs": [
    {
     "name": "stdout",
     "output_type": "stream",
     "text": [
      "2.1.0\n"
     ]
    }
   ],
   "source": [
    "#this return the version of tensorflow directly in python.\n",
    "import tensorflow as tf\n",
    "print(tf.__version__)"
   ]
  },
  {
   "cell_type": "markdown",
   "id": "537c754e",
   "metadata": {},
   "source": [
    "To check the version of these two packages: (back to the anaconda prompt) \n",
    "conda search tensorflow  \n",
    "\n",
    "To install it correctly now, I recommend you to either upgrade or downgrade tensorflow-estimator to the version of tensorflow.  \n",
    "conda install -c anaconda tensorflow-estimator==VERSION  "
   ]
  },
  {
   "cell_type": "markdown",
   "id": "41e869df",
   "metadata": {},
   "source": [
    "This next command list all available devices to tensorflow. You should see your CPU and your GPU."
   ]
  },
  {
   "cell_type": "code",
   "execution_count": 4,
   "id": "0942af86",
   "metadata": {},
   "outputs": [
    {
     "name": "stdout",
     "output_type": "stream",
     "text": [
      "[name: \"/device:CPU:0\"\n",
      "device_type: \"CPU\"\n",
      "memory_limit: 268435456\n",
      "locality {\n",
      "}\n",
      "incarnation: 6279091946281578834\n",
      ", name: \"/device:GPU:0\"\n",
      "device_type: \"GPU\"\n",
      "memory_limit: 4990763008\n",
      "locality {\n",
      "  bus_id: 1\n",
      "  links {\n",
      "  }\n",
      "}\n",
      "incarnation: 16540324122731493047\n",
      "physical_device_desc: \"device: 0, name: NVIDIA GeForce GTX 1660 SUPER, pci bus id: 0000:01:00.0, compute capability: 7.5\"\n",
      "]\n"
     ]
    }
   ],
   "source": [
    "from tensorflow.python.client import device_lib\n",
    "print(device_lib.list_local_devices())"
   ]
  },
  {
   "cell_type": "markdown",
   "id": "8cddc69f",
   "metadata": {},
   "source": [
    "This command list the number of GPU available (for pparallelization)"
   ]
  },
  {
   "cell_type": "code",
   "execution_count": 5,
   "id": "64f8237c",
   "metadata": {},
   "outputs": [
    {
     "name": "stdout",
     "output_type": "stream",
     "text": [
      "Num GPUs Available:  1\n"
     ]
    }
   ],
   "source": [
    "import tensorflow as tf\n",
    "print(\"Num GPUs Available: \", len(tf.config.list_physical_devices('GPU')))"
   ]
  },
  {
   "cell_type": "markdown",
   "id": "877a0a5d",
   "metadata": {},
   "source": [
    "This command uses an old way to list all available GPU, but it still works (might be useful for older version of tensorflow, anterior to TF 2)"
   ]
  },
  {
   "cell_type": "code",
   "execution_count": 6,
   "id": "2ccb5409",
   "metadata": {},
   "outputs": [
    {
     "name": "stdout",
     "output_type": "stream",
     "text": [
      "Device mapping:\n",
      "/job:localhost/replica:0/task:0/device:GPU:0 -> device: 0, name: NVIDIA GeForce GTX 1660 SUPER, pci bus id: 0000:01:00.0, compute capability: 7.5\n",
      "\n"
     ]
    }
   ],
   "source": [
    "sess = tf.compat.v1.Session(config=tf.compat.v1.ConfigProto(log_device_placement=True))"
   ]
  }
 ],
 "metadata": {
  "kernelspec": {
   "display_name": "Python 3 (ipykernel)",
   "language": "python",
   "name": "python3"
  },
  "language_info": {
   "codemirror_mode": {
    "name": "ipython",
    "version": 3
   },
   "file_extension": ".py",
   "mimetype": "text/x-python",
   "name": "python",
   "nbconvert_exporter": "python",
   "pygments_lexer": "ipython3",
   "version": "3.7.11"
  }
 },
 "nbformat": 4,
 "nbformat_minor": 5
}
